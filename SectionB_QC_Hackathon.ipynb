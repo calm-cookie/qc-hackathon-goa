{
 "cells": [
  {
   "cell_type": "markdown",
   "metadata": {},
   "source": [
    "# Challenge Tier - II\n",
    "## Shor's Algorithm\n",
    "\n",
    "## Introduction\n",
    "As its quite obvious now, classical computation has its own limitations and over the years we have learnt to use it to our advantage in some sense. The widely use cryptosystem, RSA, relies on the factoring being impossible for large numbers or integers. Classical computers arent nearly powerful to crack the 128 or 256 bit encryptions we use now.\n",
    "\n",
    "Shor's algorithm shows that using a quantum computer it is possible to factor a number into its primes efficiently. To run this algorithm however, we need millions of qubits and gates and these circuits are too big to run on todays quantum computers. \n",
    "\n",
    "In this task, we will be asking you to implement a very curcial step to implement the shor's algorithm and not the algorithm itself. The algorithm's entire working will not be essential for completing this task \n",
    "but if you would like to understand what's going on in this exercise you might want to check out the working of the shor's algorithm on the whole.\n",
    "\n",
    "## References\n",
    "\n",
    "1) Neilsen and Chuang, the holy grail of books on quantum computing for the theory.\n",
    "\n",
    "2) [Qiskit Textbook page on Shor's algorithm](https://qiskit.org/textbook/ch-algorithms/shor.html), for the code implementation and running on an actual quantum computer"
   ]
  },
  {
   "cell_type": "markdown",
   "metadata": {},
   "source": [
    "## Phase Estimation\n",
    "\n",
    "Phase estimation is a an important problem in quantum computing. Since we are using qubits that can be in any one of the infinite possible states based on their global phases, its important to be able to estimate what this global phase is. \n",
    "\n",
    "For example, take the state $|0\\rangle$, this has a global phase of $ 2n\\pi$, where it can be written as $e^{i2n\\pi}|0\\rangle$. But what if we added a relative phase to it? Lets say, we have $i|0\\rangle$; the phase here is $\\pi$ (or the state is $e^{inpi}|0\\rangle$). \n",
    "\n",
    "To know more about how phase estimation works and how the algorithms works: \n",
    "[Qiskit Textbook page on Quantum Phase Estimation](https://qiskit.org/textbook/ch-algorithms/quantum-phase-estimation.html)\n",
    "\n",
    "How exactly is this relevant to what we are doing here? Well thanks to Peter Shor, it was realised that if we perform a phase estimation on a unitary gate that behaves like $U|y\\rangle = |ay\\bmod N\\rangle$, then we can use it to factorise a given number. "
   ]
  },
  {
   "cell_type": "markdown",
   "metadata": {},
   "source": [
    "## Problem Statement \n",
    "\n",
    "Lets consider an example that has a period of 4. You'll understand why specifically 4 in a while. Consider the unitary operator that performs the following operation:\n",
    "$$\n",
    "U|y\\rangle = |11y\\bmod 61\\rangle\n",
    "$$\n",
    "The end goal of this exercise would be to implement this circuit, but in a very efficient way so that it can be run even on a real quantum computer. Notice that, if we take $|y\\rangle = |1\\rangle$ and we apply the unitary on the state multiple times, \n",
    "\n",
    "$$\n",
    "\\begin{aligned}\n",
    "U|1\\rangle &= |11\\rangle \\\\\n",
    "UU|1\\rangle &= |60\\rangle \\\\\n",
    "UUU|1\\rangle &= |50\\rangle \\\\\n",
    "UUUU|1\\rangle &= |1\\rangle \\\\\n",
    "\\end{aligned}\n",
    "$$\n",
    "\n",
    "So, the unitary that we have chosen specifically here has a period of 4. Usually we'd have to figure out the period of $a^r\\bmod N$ to proceed with the shor's algorithm but our task here is just to implement the unitary itself. We'll be breaking this down into smaller steps. \n",
    "\n",
    "\n",
    "Since we have 4 different states, since the period is 4 we can in a way work this around by 'reassigning' the 4 values to the 4 two-qubit states. \n",
    "\n",
    "$$\n",
    "\\begin{aligned}\n",
    "|1\\rangle &\\rightarrow |00\\rangle \\\\\n",
    "|11\\rangle &\\rightarrow |01\\rangle \\\\\n",
    "|60\\rangle &\\rightarrow |10\\rangle \\\\\n",
    "|50\\rangle &\\rightarrow |11\\rangle \\\\\n",
    "\\end{aligned}\n",
    "$$\n",
    "\n",
    "Now our task just comes down to preparing this unitary (building $U$, $U^2$, $U^4$) for us to use this in a phase estimation circuit to find the phase and hence completing a crucial step in shor's algorithm. \n",
    "\n",
    "</div>\n",
    "<div class=\"alert alert-block alert-danger\">\n",
    "    \n",
    "Your circuit can only contain [CNOTs](https://qiskit.org/documentation/stubs/qiskit.circuit.library.CXGate.html) and single qubit unitary gates [U-gates](https://qiskit.org/documentation/stubs/qiskit.circuit.library.UGate.html). The transpiled circuits will be scored based on the number of CNOTs you use (less is better), as multi-qubit gates are usually much more difficult to carry out on hardware than single-qubit gates. \n",
    "    \n",
    "</div>"
   ]
  },
  {
   "cell_type": "markdown",
   "metadata": {},
   "source": [
    "## Exercises:\n",
    "\n",
    "To implement the phase estimation algorithm, we won't just need a gate that performs U but we'll need controlled operation of U on the target qubit (initialised to $|0\\rangle$). Hence, all the tasks in this notebook would require you to build a controlled operation and finally compile all of them into a phase estimation circuit. \n",
    "\n",
    "\n",
    "### Task 1:\n",
    "Create a circuit ($U$) that performs the unitary transformation described above\n",
    "\n",
    "$$\n",
    "\\begin{aligned}\n",
    "U|1\\rangle &= |11\\rangle \\\\\n",
    "U|11\\rangle &= |60\\rangle \\\\\n",
    "U|60\\rangle &= |50\\rangle \\\\\n",
    "U|50\\rangle &= |1\\rangle \\\\\n",
    "\\end{aligned}\n",
    "$$\n",
    "\n",
    "As mentioned above, you need to have a control qubit `c` and two target qubits `t`. Just add the necessary gates and then run the code cell below. The final submissions must have the circuit visible as the output. \n",
    "\n",
    "Hint: keep in mind that qiskit follows a reverse orientation for repersentation of qubit states while you trey to make sense of the circuit. "
   ]
  },
  {
   "cell_type": "code",
   "execution_count": 10,
   "metadata": {},
   "outputs": [
    {
     "data": {
      "image/png": "[encoded data removed]",
      "text/plain": [
       "<Figure size 266.127x204.68 with 1 Axes>"
      ]
     },
     "execution_count": 10,
     "metadata": {},
     "output_type": "execute_result"
    }
   ],
   "source": [
    "from qiskit import QuantumRegister \n",
    "from qiskit import QuantumCircuit \n",
    "\n",
    "c = QuantumRegister(1, 'control')\n",
    "t = QuantumRegister(2, 'target')\n",
    "\n",
    "cu = QuantumCircuit(c, t, name = \"controlled 13^x mod 35\")\n",
    "\n",
    "# Participant code entry - START\n",
    "\n",
    "cu.ccx(c[0], t[0], t[1])\n",
    "cu.cx(c[0], t[0])\n",
    "\n",
    "# Participant code entry - END\n",
    "\n",
    "cu.draw(output='mpl')"
   ]
  },
  {
   "cell_type": "markdown",
   "metadata": {},
   "source": [
    "### Task 2:\n",
    "Create a circuit ($U^2$) that performs the same unitary, but twice with just a single gate. \n",
    "\n",
    "$$\n",
    "\\begin{aligned}\n",
    "U^2|1\\rangle &= |1\\rangle \\\\\n",
    "U^2|11\\rangle &= |11\\rangle \\\\\n",
    "U^2|60\\rangle &= |60\\rangle \\\\\n",
    "U^2|50\\rangle &= |50\\rangle \\\\\n",
    "\\end{aligned}\n",
    "$$\n"
   ]
  },
  {
   "cell_type": "code",
   "execution_count": 9,
   "metadata": {},
   "outputs": [
    {
     "data": {
      "image/png": "[encoded data removed]",
      "text/plain": [
       "<Figure size 205.927x204.68 with 1 Axes>"
      ]
     },
     "execution_count": 9,
     "metadata": {},
     "output_type": "execute_result"
    }
   ],
   "source": [
    "c = QuantumRegister(1, 'control')\n",
    "t = QuantumRegister(2, 'target')\n",
    "cu2 = QuantumCircuit(c, t)\n",
    "\n",
    "# Participant code entry - START\n",
    "\n",
    "cu2.cx(c[0], t[1])\n",
    "\n",
    "# Participant code entry - END\n",
    "cu2.draw('mpl')"
   ]
  },
  {
   "cell_type": "markdown",
   "metadata": {},
   "source": [
    "### Task 3:\n",
    "Create a circuit ($U^4$) that performs the transformation:\n",
    "\n",
    "$$\n",
    "\\begin{aligned}\n",
    "U^4|1\\rangle &= |50\\rangle \\\\\n",
    "U^4|11\\rangle &= |1\\rangle \\\\\n",
    "U^4|60\\rangle &= |11\\rangle \\\\\n",
    "U^4|50\\rangle &= |60\\rangle \\\\\n",
    "\\end{aligned}\n",
    "$$"
   ]
  },
  {
   "cell_type": "code",
   "execution_count": 5,
   "metadata": {
    "scrolled": true
   },
   "outputs": [
    {
     "data": {
      "image/png": "[encoded data removed]",
      "text/plain": [
       "<Figure size 175.827x204.68 with 1 Axes>"
      ]
     },
     "execution_count": 5,
     "metadata": {},
     "output_type": "execute_result"
    }
   ],
   "source": [
    "c = QuantumRegister(1, 'control')\n",
    "t = QuantumRegister(2, 'target')\n",
    "cu4 = QuantumCircuit(c, t)\n",
    "\n",
    "# Participant code entry - START\n",
    "\n",
    "\n",
    "# Participant code entry - END\n",
    "cu4.draw('mpl')"
   ]
  },
  {
   "cell_type": "markdown",
   "metadata": {},
   "source": [
    "### Task 4:\n",
    "\n",
    "To end the exercise your task would be to complete the phase estimation part of Shor's Algorithm. You will have to try incorporating the circuits you just made into the quantum phase estimation algorithm (dont bother including the QFT); just include the controlled gates.\n",
    "\n",
    "NOTE: We need just the controlled U^x gates and not the entire circuit itself. "
   ]
  },
  {
   "cell_type": "code",
   "execution_count": 8,
   "metadata": {},
   "outputs": [
    {
     "data": {
      "image/png": "[encoded data removed]",
      "text/plain": [
       "<Figure size 326.618x325.08 with 1 Axes>"
      ]
     },
     "execution_count": 8,
     "metadata": {},
     "output_type": "execute_result"
    }
   ],
   "source": [
    "cqr = QuantumRegister(3, 'control')\n",
    "tqr = QuantumRegister(2, 'target')\n",
    "cux = QuantumCircuit(cqr, tqr)\n",
    "\n",
    "# Participant code entry - START\n",
    "\n",
    "cux = cux.compose(cu, [cqr[0], tqr[0], tqr[1]])\n",
    "cux = cux.compose(cu2, [cqr[1], tqr[0], tqr[1]])\n",
    "cux = cux.compose(cu4, [cqr[2], tqr[0], tqr[1]])\n",
    "\n",
    "# Participant code entry - END\n",
    "\n",
    "cux.draw('mpl')"
   ]
  },
  {
   "cell_type": "markdown",
   "metadata": {},
   "source": [
    "## Additional information\n",
    "\n",
    "**Created by:** Vivek Subramaniam"
   ]
  }
 ],
 "metadata": {
  "kernelspec": {
   "display_name": "Python 3",
   "language": "python",
   "name": "python3"
  },
  "language_info": {
   "codemirror_mode": {
    "name": "ipython",
    "version": 3
   },
   "file_extension": ".py",
   "mimetype": "text/x-python",
   "name": "python",
   "nbconvert_exporter": "python",
   "pygments_lexer": "ipython3",
   "version": "3.7.4"
  }
 },
 "nbformat": 4,
 "nbformat_minor": 4
}
